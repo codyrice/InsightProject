{
 "cells": [
  {
   "cell_type": "markdown",
   "metadata": {},
   "source": [
    "#Start downloading more websites to AWS\n",
    "\n",
    "In this notebook, I am using the AWS webservice to run a Ipython notebook. I will use this notebook and server to download more data from websites and also analyze it in high throughput later. \n",
    "\n",
    "Note to self. I could not import seaborn or ggplot. The aws is lacking dependencies. \n",
    "\n",
    "### Import modules"
   ]
  },
  {
   "cell_type": "code",
   "execution_count": 2,
   "metadata": {
    "collapsed": false
   },
   "outputs": [],
   "source": [
    "# modules\n",
    "%matplotlib inline\n",
    "%config InlineBackend.figure_format='retina'   #this makes it retina style (oh yeah!)\n",
    "from bs4 import BeautifulSoup\n",
    "from os.path import join\n",
    "from pandas import DataFrame\n",
    "from os import getcwd\n",
    "import matplotlib.pyplot as plt\n",
    "import pandas as pd\n",
    "from os.path import join\n",
    "\n",
    "\n",
    "#append the path for my own funtions and import them \n",
    "import sys\n",
    "sys.path.append('/home/ubuntu/InsightProject')\n",
    "from scraper import * \n",
    "from data_functions import *\n",
    "\n",
    "\n",
    "from multiprocessing.pool import ThreadPool as Pool\n",
    "from validators.url import url as validate_url\n"
   ]
  },
  {
   "cell_type": "code",
   "execution_count": 13,
   "metadata": {
    "collapsed": false
   },
   "outputs": [],
   "source": [
    "### Get the data\n",
    "path ='/home/ubuntu/data'\n",
    "data = pd.read_hdf(join(path,'Subselected-9-21-2015.hdf' ),'goguardian')"
   ]
  },
  {
   "cell_type": "code",
   "execution_count": 15,
   "metadata": {
    "collapsed": false
   },
   "outputs": [
    {
     "data": {
      "text/html": [
       "<div>\n",
       "<table border=\"1\" class=\"dataframe\">\n",
       "  <thead>\n",
       "    <tr style=\"text-align: right;\">\n",
       "      <th></th>\n",
       "      <th></th>\n",
       "      <th>id</th>\n",
       "      <th>url</th>\n",
       "      <th>catIDs</th>\n",
       "      <th>catNames</th>\n",
       "      <th>parentIDs</th>\n",
       "      <th>parentNames</th>\n",
       "      <th>number_categories</th>\n",
       "      <th>number_parents</th>\n",
       "      <th>visited</th>\n",
       "      <th>saved</th>\n",
       "      <th>size</th>\n",
       "      <th>cats</th>\n",
       "      <th>filenames</th>\n",
       "    </tr>\n",
       "    <tr>\n",
       "      <th>cats</th>\n",
       "      <th></th>\n",
       "      <th></th>\n",
       "      <th></th>\n",
       "      <th></th>\n",
       "      <th></th>\n",
       "      <th></th>\n",
       "      <th></th>\n",
       "      <th></th>\n",
       "      <th></th>\n",
       "      <th></th>\n",
       "      <th></th>\n",
       "      <th></th>\n",
       "      <th></th>\n",
       "      <th></th>\n",
       "    </tr>\n",
       "  </thead>\n",
       "  <tbody>\n",
       "    <tr>\n",
       "      <th rowspan=\"5\" valign=\"top\">Add-Ons</th>\n",
       "      <th>1910982</th>\n",
       "      <td>4990028</td>\n",
       "      <td>naturestrail.net</td>\n",
       "      <td>[38]</td>\n",
       "      <td>[Add-Ons]</td>\n",
       "      <td>[7.0]</td>\n",
       "      <td>[Malicious Sites]</td>\n",
       "      <td>1</td>\n",
       "      <td>1</td>\n",
       "      <td>False</td>\n",
       "      <td>False</td>\n",
       "      <td>0</td>\n",
       "      <td>Add-Ons</td>\n",
       "      <td>naturestrail_net.txt</td>\n",
       "    </tr>\n",
       "    <tr>\n",
       "      <th>1911394</th>\n",
       "      <td>4990440</td>\n",
       "      <td>wallpaperist.com</td>\n",
       "      <td>[38]</td>\n",
       "      <td>[Add-Ons]</td>\n",
       "      <td>[7.0]</td>\n",
       "      <td>[Malicious Sites]</td>\n",
       "      <td>1</td>\n",
       "      <td>1</td>\n",
       "      <td>False</td>\n",
       "      <td>True</td>\n",
       "      <td>0</td>\n",
       "      <td>Add-Ons</td>\n",
       "      <td>wallpaperist_com.txt</td>\n",
       "    </tr>\n",
       "    <tr>\n",
       "      <th>1910978</th>\n",
       "      <td>4990024</td>\n",
       "      <td>nature-wallpaper.com</td>\n",
       "      <td>[38]</td>\n",
       "      <td>[Add-Ons]</td>\n",
       "      <td>[7.0]</td>\n",
       "      <td>[Malicious Sites]</td>\n",
       "      <td>1</td>\n",
       "      <td>1</td>\n",
       "      <td>False</td>\n",
       "      <td>True</td>\n",
       "      <td>0</td>\n",
       "      <td>Add-Ons</td>\n",
       "      <td>nature-wallpaper_com.txt</td>\n",
       "    </tr>\n",
       "    <tr>\n",
       "      <th>1911241</th>\n",
       "      <td>4990287</td>\n",
       "      <td>tenmiles.com</td>\n",
       "      <td>[38]</td>\n",
       "      <td>[Add-Ons]</td>\n",
       "      <td>[7.0]</td>\n",
       "      <td>[Malicious Sites]</td>\n",
       "      <td>1</td>\n",
       "      <td>1</td>\n",
       "      <td>False</td>\n",
       "      <td>True</td>\n",
       "      <td>0</td>\n",
       "      <td>Add-Ons</td>\n",
       "      <td>tenmiles_com.txt</td>\n",
       "    </tr>\n",
       "    <tr>\n",
       "      <th>1911519</th>\n",
       "      <td>4990565</td>\n",
       "      <td>zastavki.boom.ru</td>\n",
       "      <td>[38]</td>\n",
       "      <td>[Add-Ons]</td>\n",
       "      <td>[7.0]</td>\n",
       "      <td>[Malicious Sites]</td>\n",
       "      <td>1</td>\n",
       "      <td>1</td>\n",
       "      <td>False</td>\n",
       "      <td>False</td>\n",
       "      <td>0</td>\n",
       "      <td>Add-Ons</td>\n",
       "      <td>zastavki_boom_ru.txt</td>\n",
       "    </tr>\n",
       "  </tbody>\n",
       "</table>\n",
       "</div>"
      ],
      "text/plain": [
       "                      id                   url catIDs   catNames parentIDs  \\\n",
       "cats                                                                         \n",
       "Add-Ons 1910982  4990028      naturestrail.net   [38]  [Add-Ons]     [7.0]   \n",
       "        1911394  4990440      wallpaperist.com   [38]  [Add-Ons]     [7.0]   \n",
       "        1910978  4990024  nature-wallpaper.com   [38]  [Add-Ons]     [7.0]   \n",
       "        1911241  4990287          tenmiles.com   [38]  [Add-Ons]     [7.0]   \n",
       "        1911519  4990565      zastavki.boom.ru   [38]  [Add-Ons]     [7.0]   \n",
       "\n",
       "                       parentNames  number_categories  number_parents visited  \\\n",
       "cats                                                                            \n",
       "Add-Ons 1910982  [Malicious Sites]                  1               1   False   \n",
       "        1911394  [Malicious Sites]                  1               1   False   \n",
       "        1910978  [Malicious Sites]                  1               1   False   \n",
       "        1911241  [Malicious Sites]                  1               1   False   \n",
       "        1911519  [Malicious Sites]                  1               1   False   \n",
       "\n",
       "                 saved  size     cats                 filenames  \n",
       "cats                                                             \n",
       "Add-Ons 1910982  False     0  Add-Ons      naturestrail_net.txt  \n",
       "        1911394   True     0  Add-Ons      wallpaperist_com.txt  \n",
       "        1910978   True     0  Add-Ons  nature-wallpaper_com.txt  \n",
       "        1911241   True     0  Add-Ons          tenmiles_com.txt  \n",
       "        1911519  False     0  Add-Ons      zastavki_boom_ru.txt  "
      ]
     },
     "execution_count": 15,
     "metadata": {},
     "output_type": "execute_result"
    }
   ],
   "source": [
    "data.head()"
   ]
  },
  {
   "cell_type": "markdown",
   "metadata": {},
   "source": [
    "### Start importing the htmls\n",
    "To do this:\n",
    "\n",
    "1. Set up the appropriate code. \n",
    "2. Start downloading the list. \n",
    "\n",
    "Note that I decided to start 32 thread since i have multiple processors"
   ]
  },
  {
   "cell_type": "code",
   "execution_count": 41,
   "metadata": {
    "collapsed": false
   },
   "outputs": [],
   "source": [
    "def downloader(url):\n",
    "    return valid_download_html(url, savepath='/home/ubuntu/data/html', ext='txt',validate=True)"
   ]
  },
  {
   "cell_type": "code",
   "execution_count": 42,
   "metadata": {
    "collapsed": true
   },
   "outputs": [],
   "source": [
    "def download_multiple(urls,threads = 32):\n",
    "    \"\"\"Downloads multiple threads\"\"\"\n",
    "    pool = Pool(threads)\n",
    "    pool.map_async(downloader, urls)"
   ]
  },
  {
   "cell_type": "code",
   "execution_count": 33,
   "metadata": {
    "collapsed": true
   },
   "outputs": [],
   "source": [
    "url = 'nytimes.com'"
   ]
  },
  {
   "cell_type": "markdown",
   "metadata": {},
   "source": [
    "I used this code to test. \n",
    "\n",
    "```python\n",
    "downloader(url)```\n",
    "\n",
    "I used the line below to download the htmls for the training data. "
   ]
  },
  {
   "cell_type": "markdown",
   "metadata": {
    "collapsed": false
   },
   "source": [
    "```python \n",
    "download_multiple(urls,threads = 32)```"
   ]
  },
  {
   "cell_type": "markdown",
   "metadata": {
    "collapsed": true
   },
   "source": [
    "### Download the htmls for the students\n",
    "\n",
    "I got some data for the htmls for some students. Will now use aws to download these. "
   ]
  },
  {
   "cell_type": "code",
   "execution_count": 44,
   "metadata": {
    "collapsed": false
   },
   "outputs": [],
   "source": [
    "savepath='/home/ubuntu/data/student_html'"
   ]
  },
  {
   "cell_type": "code",
   "execution_count": 45,
   "metadata": {
    "collapsed": true
   },
   "outputs": [],
   "source": [
    "student_data = pd.read_csv(join('/home/ubuntu/data/','1000_students_9_1_through_9_15_cleaned.csv'))"
   ]
  },
  {
   "cell_type": "code",
   "execution_count": 47,
   "metadata": {
    "collapsed": false
   },
   "outputs": [
    {
     "data": {
      "text/html": [
       "<div>\n",
       "<table border=\"1\" class=\"dataframe\">\n",
       "  <thead>\n",
       "    <tr style=\"text-align: right;\">\n",
       "      <th></th>\n",
       "      <th>Unnamed: 0</th>\n",
       "      <th>id</th>\n",
       "      <th>userID</th>\n",
       "      <th>startTime</th>\n",
       "      <th>endTime</th>\n",
       "      <th>hostname</th>\n",
       "      <th>timeSpent</th>\n",
       "    </tr>\n",
       "  </thead>\n",
       "  <tbody>\n",
       "    <tr>\n",
       "      <th>0</th>\n",
       "      <td>0</td>\n",
       "      <td>5036042410</td>\n",
       "      <td>2424081</td>\n",
       "      <td>1441221988</td>\n",
       "      <td>1441221998</td>\n",
       "      <td>www.blythevilleschools.net</td>\n",
       "      <td>1</td>\n",
       "    </tr>\n",
       "    <tr>\n",
       "      <th>1</th>\n",
       "      <td>1</td>\n",
       "      <td>5036042411</td>\n",
       "      <td>2424081</td>\n",
       "      <td>1441221998</td>\n",
       "      <td>1441222008</td>\n",
       "      <td>hosted164.renlearn.com</td>\n",
       "      <td>1</td>\n",
       "    </tr>\n",
       "    <tr>\n",
       "      <th>2</th>\n",
       "      <td>2</td>\n",
       "      <td>5036042412</td>\n",
       "      <td>2424081</td>\n",
       "      <td>1441222008</td>\n",
       "      <td>1441222018</td>\n",
       "      <td>apps.renlearn.com</td>\n",
       "      <td>1</td>\n",
       "    </tr>\n",
       "    <tr>\n",
       "      <th>3</th>\n",
       "      <td>3</td>\n",
       "      <td>5036042413</td>\n",
       "      <td>2424081</td>\n",
       "      <td>1441222018</td>\n",
       "      <td>1441222028</td>\n",
       "      <td>apps.renlearn.com</td>\n",
       "      <td>1</td>\n",
       "    </tr>\n",
       "    <tr>\n",
       "      <th>4</th>\n",
       "      <td>4</td>\n",
       "      <td>5036042414</td>\n",
       "      <td>2424081</td>\n",
       "      <td>1441222028</td>\n",
       "      <td>1441222268</td>\n",
       "      <td>apps.renlearn.com</td>\n",
       "      <td>231</td>\n",
       "    </tr>\n",
       "  </tbody>\n",
       "</table>\n",
       "</div>"
      ],
      "text/plain": [
       "   Unnamed: 0          id   userID   startTime     endTime  \\\n",
       "0           0  5036042410  2424081  1441221988  1441221998   \n",
       "1           1  5036042411  2424081  1441221998  1441222008   \n",
       "2           2  5036042412  2424081  1441222008  1441222018   \n",
       "3           3  5036042413  2424081  1441222018  1441222028   \n",
       "4           4  5036042414  2424081  1441222028  1441222268   \n",
       "\n",
       "                     hostname  timeSpent  \n",
       "0  www.blythevilleschools.net          1  \n",
       "1      hosted164.renlearn.com          1  \n",
       "2           apps.renlearn.com          1  \n",
       "3           apps.renlearn.com          1  \n",
       "4           apps.renlearn.com        231  "
      ]
     },
     "execution_count": 47,
     "metadata": {},
     "output_type": "execute_result"
    }
   ],
   "source": [
    "student_data.head()"
   ]
  },
  {
   "cell_type": "code",
   "execution_count": 56,
   "metadata": {
    "collapsed": true
   },
   "outputs": [],
   "source": [
    "## get the urls\n",
    "urls = student_data.hostname.unique()"
   ]
  },
  {
   "cell_type": "code",
   "execution_count": 57,
   "metadata": {
    "collapsed": false
   },
   "outputs": [
    {
     "data": {
      "text/plain": [
       "16985"
      ]
     },
     "execution_count": 57,
     "metadata": {},
     "output_type": "execute_result"
    }
   ],
   "source": [
    "len(urls)"
   ]
  },
  {
   "cell_type": "markdown",
   "metadata": {},
   "source": [
    "#### Start the next download. Oh Yeah. "
   ]
  },
  {
   "cell_type": "code",
   "execution_count": 58,
   "metadata": {
    "collapsed": true
   },
   "outputs": [],
   "source": [
    "def downloader(url):\n",
    "    return valid_download_html(url, savepath=savepath, ext='txt',validate=True)"
   ]
  },
  {
   "cell_type": "code",
   "execution_count": 59,
   "metadata": {
    "collapsed": false
   },
   "outputs": [
    {
     "data": {
      "text/plain": [
       "('www.blythevilleschools.net', True)"
      ]
     },
     "execution_count": 59,
     "metadata": {},
     "output_type": "execute_result"
    }
   ],
   "source": [
    "# test quickly\n",
    "test = 'www.blythevilleschools.net'\n",
    "downloader(test)"
   ]
  },
  {
   "cell_type": "code",
   "execution_count": 55,
   "metadata": {
    "collapsed": true
   },
   "outputs": [],
   "source": [
    "def download_multiple(urls,threads = 32):\n",
    "    \"\"\"Downloads multiple threads\"\"\"\n",
    "    pool = Pool(threads)\n",
    "    pool.map_async(downloader, urls)"
   ]
  },
  {
   "cell_type": "code",
   "execution_count": 60,
   "metadata": {
    "collapsed": true
   },
   "outputs": [],
   "source": [
    "download_multiple(urls)"
   ]
  },
  {
   "cell_type": "markdown",
   "metadata": {
    "collapsed": true
   },
   "source": [
    "### Remarks. \n",
    "\n",
    "This was a successful task. I downloaded the files to aws cluster. This cluster in fact. "
   ]
  },
  {
   "cell_type": "code",
   "execution_count": null,
   "metadata": {
    "collapsed": true
   },
   "outputs": [],
   "source": []
  }
 ],
 "metadata": {
  "kernelspec": {
   "display_name": "Python 2",
   "language": "python",
   "name": "python2"
  },
  "language_info": {
   "codemirror_mode": {
    "name": "ipython",
    "version": 2
   },
   "file_extension": ".py",
   "mimetype": "text/x-python",
   "name": "python",
   "nbconvert_exporter": "python",
   "pygments_lexer": "ipython2",
   "version": "2.7.10"
  }
 },
 "nbformat": 4,
 "nbformat_minor": 0
}
