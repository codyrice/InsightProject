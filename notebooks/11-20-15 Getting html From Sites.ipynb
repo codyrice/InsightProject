{
 "cells": [
  {
   "cell_type": "markdown",
   "metadata": {},
   "source": [
    "# Start Downloading HTML\n",
    "\n",
    "Requesting and getting HTML from sites in categories.\n",
    "\n",
    "### Import modules"
   ]
  },
  {
   "cell_type": "code",
   "execution_count": 1,
   "metadata": {
    "collapsed": false
   },
   "outputs": [],
   "source": [
    "# modules\n",
    "%matplotlib inline\n",
    "%config InlineBackend.figure_format='retina'   #this makes it retina style (oh yeah!)\n",
    "from bs4 import BeautifulSoup\n",
    "from os.path import join\n",
    "from pandas import DataFrame\n",
    "from os import getcwd\n",
    "import matplotlib.pyplot as plt\n",
    "import pandas as pd\n",
    "from os.path import join\n",
    "\n",
    "\n",
    "#append the path for my own funtions and import them \n",
    "import sys\n",
    "sys.path.append('/Users/Cody/Documents/InsightProject')\n",
    "from scraper import * \n",
    "from data_functions import *\n",
    "\n",
    "\n",
    "from multiprocessing.pool import ThreadPool as Pool\n",
    "from validators.url import url as validate_url\n"
   ]
  },
  {
   "cell_type": "code",
   "execution_count": null,
   "metadata": {
    "collapsed": false
   },
   "outputs": [],
   "source": [
    "### Get the data\n",
    "path ='/Users/Cody/Documents/InsightProject/data'\n",
    "data = pd.read_hdf(join(path,'11-20-15_Blackcat_List.hdf' ),'table')"
   ]
  },
  {
   "cell_type": "code",
   "execution_count": null,
   "metadata": {
    "collapsed": false
   },
   "outputs": [],
   "source": [
    "data.head()"
   ]
  },
  {
   "cell_type": "code",
   "execution_count": null,
   "metadata": {
    "collapsed": false
   },
   "outputs": [],
   "source": [
    "data.head()"
   ]
  },
  {
   "cell_type": "markdown",
   "metadata": {},
   "source": [
    "### Start importing the htmls\n",
    "To do this:\n",
    "\n",
    "1. Set up the appropriate code. \n",
    "2. Start downloading the list. \n",
    "\n",
    "Note that I decided to start 32 thread since i have multiple processors"
   ]
  },
  {
   "cell_type": "code",
   "execution_count": 2,
   "metadata": {
    "collapsed": false
   },
   "outputs": [],
   "source": [
    "def downloader(url):\n",
    "    return valid_download_html(url, savepath='/Users/Cody/Documents/InsightProject/data/html', ext='txt',validate=True)"
   ]
  },
  {
   "cell_type": "code",
   "execution_count": null,
   "metadata": {
    "collapsed": true
   },
   "outputs": [],
   "source": [
    "def download_multiple(urls,threads = 32):\n",
    "    \"\"\"Downloads multiple threads\"\"\"\n",
    "    pool = Pool(threads)\n",
    "    pool.map_async(downloader, urls)"
   ]
  },
  {
   "cell_type": "code",
   "execution_count": null,
   "metadata": {
    "collapsed": false
   },
   "outputs": [],
   "source": [
    "url = 'nytimes.com'\n",
    "downloader(url)"
   ]
  },
  {
   "cell_type": "markdown",
   "metadata": {},
   "source": [
    "I used this code to test. \n",
    "\n",
    "```python\n",
    "downloader(url)```\n",
    "\n",
    "I used the line below to download the htmls for the training data. "
   ]
  },
  {
   "cell_type": "markdown",
   "metadata": {
    "collapsed": false
   },
   "source": [
    "```python \n",
    "download_multiple(urls,threads = 32)```"
   ]
  },
  {
   "cell_type": "markdown",
   "metadata": {
    "collapsed": true
   },
   "source": [
    "### Download the htmls for the students\n",
    "\n",
    "I got some data for the htmls for some students. Will now use aws to download these. "
   ]
  },
  {
   "cell_type": "code",
   "execution_count": null,
   "metadata": {
    "collapsed": false
   },
   "outputs": [],
   "source": [
    "savepath='/Users/Cody/Documents/InsightProject/data/html'"
   ]
  },
  {
   "cell_type": "code",
   "execution_count": null,
   "metadata": {
    "collapsed": false
   },
   "outputs": [],
   "source": [
    "student_data = pd.read_csv(join('/Users/Cody/Documents/InsightProject/data/','11-20-15_Blackcat_List.csv'))"
   ]
  },
  {
   "cell_type": "code",
   "execution_count": null,
   "metadata": {
    "collapsed": false
   },
   "outputs": [],
   "source": [
    "student_data.head()"
   ]
  },
  {
   "cell_type": "code",
   "execution_count": null,
   "metadata": {
    "collapsed": true
   },
   "outputs": [],
   "source": [
    "## get the urls\n",
    "urls = student_data.url"
   ]
  },
  {
   "cell_type": "code",
   "execution_count": null,
   "metadata": {
    "collapsed": false
   },
   "outputs": [],
   "source": [
    "len(urls)"
   ]
  },
  {
   "cell_type": "markdown",
   "metadata": {},
   "source": [
    "#### Start the next download. Oh Yeah. "
   ]
  },
  {
   "cell_type": "code",
   "execution_count": null,
   "metadata": {
    "collapsed": true
   },
   "outputs": [],
   "source": [
    "def downloader(url):\n",
    "    return valid_download_html(url, savepath=savepath, ext='txt', validate=True)"
   ]
  },
  {
   "cell_type": "code",
   "execution_count": null,
   "metadata": {
    "collapsed": false
   },
   "outputs": [],
   "source": [
    "# test quickly\n",
    "test = 'www.blythevilleschools.net'\n",
    "downloader(test)"
   ]
  },
  {
   "cell_type": "code",
   "execution_count": null,
   "metadata": {
    "collapsed": true
   },
   "outputs": [],
   "source": [
    "def download_multiple(urls,threads = 8):\n",
    "    \"\"\"Downloads multiple threads\"\"\"\n",
    "    pool = Pool(threads)\n",
    "    pool.map_async(downloader, urls)"
   ]
  },
  {
   "cell_type": "code",
   "execution_count": null,
   "metadata": {
    "collapsed": true
   },
   "outputs": [],
   "source": [
    "download_multiple(urls)"
   ]
  },
  {
   "cell_type": "markdown",
   "metadata": {
    "collapsed": true
   },
   "source": [
    "### Remarks. \n",
    "\n",
    "This was a successful task. I downloaded the files to aws cluster. This cluster in fact. "
   ]
  },
  {
   "cell_type": "code",
   "execution_count": null,
   "metadata": {
    "collapsed": true
   },
   "outputs": [],
   "source": []
  }
 ],
 "metadata": {
  "kernelspec": {
   "display_name": "Python 2",
   "language": "python",
   "name": "python2"
  },
  "language_info": {
   "codemirror_mode": {
    "name": "ipython",
    "version": 2
   },
   "file_extension": ".py",
   "mimetype": "text/x-python",
   "name": "python",
   "nbconvert_exporter": "python",
   "pygments_lexer": "ipython2",
   "version": "2.7.10"
  }
 },
 "nbformat": 4,
 "nbformat_minor": 0
}
