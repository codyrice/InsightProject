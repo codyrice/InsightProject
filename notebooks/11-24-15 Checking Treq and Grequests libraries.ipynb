{
 "cells": [
  {
   "cell_type": "markdown",
   "metadata": {},
   "source": [
    "## Import"
   ]
  },
  {
   "cell_type": "code",
   "execution_count": null,
   "metadata": {
    "collapsed": false
   },
   "outputs": [],
   "source": [
    "from treq import get\n",
    "from twisted.internet import reactor"
   ]
  },
  {
   "cell_type": "markdown",
   "metadata": {},
   "source": [
    "## Define Functions"
   ]
  },
  {
   "cell_type": "code",
   "execution_count": null,
   "metadata": {
    "collapsed": true
   },
   "outputs": [],
   "source": [
    "def done(response):\n",
    "    print response\n",
    "    reactor.stop()"
   ]
  },
  {
   "cell_type": "markdown",
   "metadata": {},
   "source": [
    "## Run the code"
   ]
  },
  {
   "cell_type": "code",
   "execution_count": null,
   "metadata": {
    "collapsed": false
   },
   "outputs": [],
   "source": [
    "get(\"http://www.github.com\").addCallback(done)\n",
    "reactor.run()"
   ]
  },
  {
   "cell_type": "code",
   "execution_count": null,
   "metadata": {
    "collapsed": false
   },
   "outputs": [],
   "source": [
    "from twisted.internet import epollreactor  \n",
    "\n",
    "from twisted.internet import reactor, task  \n",
    "from twisted.web.client import HTTPConnectionPool  \n",
    "import treq  \n",
    "import random  \n",
    "from datetime import datetime"
   ]
  },
  {
   "cell_type": "code",
   "execution_count": null,
   "metadata": {
    "collapsed": true
   },
   "outputs": [],
   "source": [
    "req_generated = 0  \n",
    "req_made = 0  \n",
    "req_done = 0\n",
    "\n",
    "cooperator = task.Cooperator()\n",
    "\n",
    "pool = HTTPConnectionPool(reactor)\n",
    "\n",
    "def counter():  \n",
    "    '''This function gets called once a second and prints the progress at one \n",
    "    second intervals. \n",
    "    '''\n",
    "    print(\"Requests: {} generated; {} made; {} done\".format(\n",
    "            req_generated, req_made, req_done))\n",
    "    # reset the counters and reschedule ourselves\n",
    "    req_generated = req_made = req_done = 0\n",
    "    reactor.callLater(1, counter)\n",
    "\n",
    "def body_received(body):  \n",
    "    global req_done\n",
    "    req_done += 1\n",
    "\n",
    "def request_done(response):  \n",
    "    global req_made\n",
    "    deferred = treq.json_content(response)\n",
    "    req_made += 1\n",
    "    deferred.addCallback(body_received)\n",
    "    deferred.addErrback(lambda x: None)  # ignore errors\n",
    "    return deferred\n",
    "\n",
    "def request():  \n",
    "    deferred = treq.post('http://api.host/v2/loadtest/messages',\n",
    "                         auth=('api', 'api-key'),\n",
    "                         data={'from': 'Loadtest <test@example.com>',\n",
    "                               'to': 'to@example.org',\n",
    "                               'subject': \"test\"},\n",
    "                         pool=pool)\n",
    "    deferred.addCallback(request_done)\n",
    "    return deferred\n",
    "\n",
    "def requests_generator():  \n",
    "    global req_generated\n",
    "    while True:\n",
    "        deferred = request()\n",
    "        req_generated += 1\n",
    "        # do not yield deferred here so cooperator won't pause until\n",
    "        # response is received\n",
    "        yield None\n",
    "\n",
    "if __name__ == '__main__':  \n",
    "    # make cooperator work on spawning requests\n",
    "    cooperator.cooperate(requests_generator())\n",
    "\n",
    "    # run the counter that will be reporting sending speed once a second\n",
    "    reactor.callLater(1, counter)\n",
    "\n",
    "    # run the reactor\n",
    "    reactor.run()"
   ]
  },
  {
   "cell_type": "markdown",
   "metadata": {},
   "source": [
    "## Testing Grequests"
   ]
  },
  {
   "cell_type": "code",
   "execution_count": 1,
   "metadata": {
    "collapsed": false
   },
   "outputs": [
    {
     "ename": "NameError",
     "evalue": "name 'grequests' is not defined",
     "output_type": "error",
     "traceback": [
      "\u001b[0;31m---------------------------------------------------------------------------\u001b[0m",
      "\u001b[0;31mNameError\u001b[0m                                 Traceback (most recent call last)",
      "\u001b[0;32m<ipython-input-1-519d863a00dd>\u001b[0m in \u001b[0;36m<module>\u001b[0;34m()\u001b[0m\n\u001b[1;32m     20\u001b[0m \u001b[0;31m#rs = (grequests.get(u, timeout=(10,10)) for u in urls)\u001b[0m\u001b[0;34m\u001b[0m\u001b[0;34m\u001b[0m\u001b[0m\n\u001b[1;32m     21\u001b[0m \u001b[0;31m# grequests.map(rs)\u001b[0m\u001b[0;34m\u001b[0m\u001b[0;34m\u001b[0m\u001b[0m\n\u001b[0;32m---> 22\u001b[0;31m \u001b[0;32mfor\u001b[0m \u001b[0mresponse\u001b[0m \u001b[0;32min\u001b[0m \u001b[0mgrequests\u001b[0m\u001b[0;34m.\u001b[0m\u001b[0mmap\u001b[0m\u001b[0;34m(\u001b[0m\u001b[0mrs\u001b[0m\u001b[0;34m)\u001b[0m\u001b[0;34m:\u001b[0m\u001b[0;34m\u001b[0m\u001b[0m\n\u001b[0m\u001b[1;32m     23\u001b[0m     \u001b[0;32mif\u001b[0m \u001b[0;34m(\u001b[0m\u001b[0mresponse\u001b[0m \u001b[0;32mis\u001b[0m \u001b[0mNone\u001b[0m\u001b[0;34m)\u001b[0m\u001b[0;34m:\u001b[0m\u001b[0;34m\u001b[0m\u001b[0m\n\u001b[1;32m     24\u001b[0m         \u001b[0;32mprint\u001b[0m\u001b[0;34m(\u001b[0m\u001b[0;34m'NoneType'\u001b[0m\u001b[0;34m)\u001b[0m\u001b[0;34m\u001b[0m\u001b[0m\n",
      "\u001b[0;31mNameError\u001b[0m: name 'grequests' is not defined"
     ]
    }
   ],
   "source": [
    "#import grequests\n",
    "\n",
    "urls = [\n",
    "#    'http://www.heroku.com',\n",
    "#    'http://tablib.org',\n",
    "#    'http://httpbin.org',\n",
    "#    'http://python-requests.org',\n",
    "#    'http://kennethreitz.com',\n",
    "    'http://0--ass-cinema-newsp.da.ru',\n",
    "    'http://0--fightingshaving.da.ru',\n",
    "    'http://0--foodwarez.da.ru',\n",
    "    'http://0--gratis.dk',\n",
    "    'http://0-0-0-1blowjob.da.ru'\n",
    "]\n",
    "\n",
    "try:\n",
    "    rs = (grequests.get(u, timeout=(10,10)) for u in urls)\n",
    "except (Timeout, ReadTimeout, TooManyRedirects, ConnectionError):  # fails return the tupple\n",
    "    print('error')\n",
    "#rs = (grequests.get(u, timeout=(10,10)) for u in urls)\n",
    "# grequests.map(rs)\n",
    "for response in grequests.map(rs):\n",
    "    if (response is None):\n",
    "        print('NoneType')\n",
    "    else:\n",
    "        print('{}: {}'.format(response.url, response.content))"
   ]
  }
 ],
 "metadata": {
  "kernelspec": {
   "display_name": "Python 2",
   "language": "python",
   "name": "python2"
  },
  "language_info": {
   "codemirror_mode": {
    "name": "ipython",
    "version": 2
   },
   "file_extension": ".py",
   "mimetype": "text/x-python",
   "name": "python",
   "nbconvert_exporter": "python",
   "pygments_lexer": "ipython2",
   "version": "2.7.10"
  }
 },
 "nbformat": 4,
 "nbformat_minor": 0
}
